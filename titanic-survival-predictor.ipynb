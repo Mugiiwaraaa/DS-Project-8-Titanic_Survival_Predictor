{
 "cells": [
  {
   "cell_type": "code",
   "execution_count": 1,
   "id": "da12ca80",
   "metadata": {
    "_cell_guid": "b1076dfc-b9ad-4769-8c92-a6c4dae69d19",
    "_uuid": "8f2839f25d086af736a60e9eeb907d3b93b6e0e5",
    "execution": {
     "iopub.execute_input": "2022-08-19T16:11:58.424422Z",
     "iopub.status.busy": "2022-08-19T16:11:58.423586Z",
     "iopub.status.idle": "2022-08-19T16:11:58.438800Z",
     "shell.execute_reply": "2022-08-19T16:11:58.437483Z"
    },
    "papermill": {
     "duration": 0.031048,
     "end_time": "2022-08-19T16:11:58.442113",
     "exception": false,
     "start_time": "2022-08-19T16:11:58.411065",
     "status": "completed"
    },
    "tags": []
   },
   "outputs": [
    {
     "name": "stdout",
     "output_type": "stream",
     "text": [
      "/kaggle/input/titanic/train.csv\n",
      "/kaggle/input/titanic/test.csv\n",
      "/kaggle/input/titanic/gender_submission.csv\n"
     ]
    }
   ],
   "source": [
    "# This Python 3 environment comes with many helpful analytics libraries installed\n",
    "# It is defined by the kaggle/python Docker image: https://github.com/kaggle/docker-python\n",
    "# For example, here's several helpful packages to load\n",
    "\n",
    "import numpy as np # linear algebra\n",
    "import pandas as pd # data processing, CSV file I/O (e.g. pd.read_csv)\n",
    "\n",
    "# Input data files are available in the read-only \"../input/\" directory\n",
    "# For example, running this (by clicking run or pressing Shift+Enter) will list all files under the input directory\n",
    "\n",
    "import os\n",
    "for dirname, _, filenames in os.walk('/kaggle/input'):\n",
    "    for filename in filenames:\n",
    "        print(os.path.join(dirname, filename))\n",
    "\n",
    "# You can write up to 20GB to the current directory (/kaggle/working/) that gets preserved as output when you create a version using \"Save & Run All\" \n",
    "# You can also write temporary files to /kaggle/temp/, but they won't be saved outside of the current session"
   ]
  },
  {
   "cell_type": "code",
   "execution_count": 2,
   "id": "4aec5360",
   "metadata": {
    "execution": {
     "iopub.execute_input": "2022-08-19T16:11:58.462434Z",
     "iopub.status.busy": "2022-08-19T16:11:58.461635Z",
     "iopub.status.idle": "2022-08-19T16:11:58.466184Z",
     "shell.execute_reply": "2022-08-19T16:11:58.465372Z"
    },
    "papermill": {
     "duration": 0.017209,
     "end_time": "2022-08-19T16:11:58.468580",
     "exception": false,
     "start_time": "2022-08-19T16:11:58.451371",
     "status": "completed"
    },
    "tags": []
   },
   "outputs": [],
   "source": [
    "#Importing the dependencies \n",
    "import numpy as np\n",
    "import pandas as pd \n",
    "import matplotlib as plt"
   ]
  },
  {
   "cell_type": "code",
   "execution_count": 3,
   "id": "bc3ab2c6",
   "metadata": {
    "execution": {
     "iopub.execute_input": "2022-08-19T16:11:58.489047Z",
     "iopub.status.busy": "2022-08-19T16:11:58.488299Z",
     "iopub.status.idle": "2022-08-19T16:11:58.533825Z",
     "shell.execute_reply": "2022-08-19T16:11:58.532530Z"
    },
    "papermill": {
     "duration": 0.05925,
     "end_time": "2022-08-19T16:11:58.537093",
     "exception": false,
     "start_time": "2022-08-19T16:11:58.477843",
     "status": "completed"
    },
    "tags": []
   },
   "outputs": [],
   "source": [
    "#Loading the datasets \n",
    "train_data=pd.read_csv('../input/titanic/train.csv')\n",
    "test_data=pd.read_csv('../input/titanic/test.csv')\n",
    "datasets=[train_data,test_data]\n",
    "test_ids=test_data['PassengerId'] #Extracting the target ids\n"
   ]
  },
  {
   "cell_type": "code",
   "execution_count": 4,
   "id": "03b9e431",
   "metadata": {
    "execution": {
     "iopub.execute_input": "2022-08-19T16:11:58.560316Z",
     "iopub.status.busy": "2022-08-19T16:11:58.559507Z",
     "iopub.status.idle": "2022-08-19T16:11:58.593920Z",
     "shell.execute_reply": "2022-08-19T16:11:58.593089Z"
    },
    "papermill": {
     "duration": 0.048064,
     "end_time": "2022-08-19T16:11:58.596301",
     "exception": false,
     "start_time": "2022-08-19T16:11:58.548237",
     "status": "completed"
    },
    "tags": []
   },
   "outputs": [
    {
     "data": {
      "text/html": [
       "<div>\n",
       "<style scoped>\n",
       "    .dataframe tbody tr th:only-of-type {\n",
       "        vertical-align: middle;\n",
       "    }\n",
       "\n",
       "    .dataframe tbody tr th {\n",
       "        vertical-align: top;\n",
       "    }\n",
       "\n",
       "    .dataframe thead th {\n",
       "        text-align: right;\n",
       "    }\n",
       "</style>\n",
       "<table border=\"1\" class=\"dataframe\">\n",
       "  <thead>\n",
       "    <tr style=\"text-align: right;\">\n",
       "      <th></th>\n",
       "      <th>PassengerId</th>\n",
       "      <th>Survived</th>\n",
       "      <th>Pclass</th>\n",
       "      <th>Name</th>\n",
       "      <th>Sex</th>\n",
       "      <th>Age</th>\n",
       "      <th>SibSp</th>\n",
       "      <th>Parch</th>\n",
       "      <th>Ticket</th>\n",
       "      <th>Fare</th>\n",
       "      <th>Cabin</th>\n",
       "      <th>Embarked</th>\n",
       "    </tr>\n",
       "  </thead>\n",
       "  <tbody>\n",
       "    <tr>\n",
       "      <th>0</th>\n",
       "      <td>1</td>\n",
       "      <td>0</td>\n",
       "      <td>3</td>\n",
       "      <td>Braund, Mr. Owen Harris</td>\n",
       "      <td>male</td>\n",
       "      <td>22.0</td>\n",
       "      <td>1</td>\n",
       "      <td>0</td>\n",
       "      <td>A/5 21171</td>\n",
       "      <td>7.2500</td>\n",
       "      <td>NaN</td>\n",
       "      <td>S</td>\n",
       "    </tr>\n",
       "    <tr>\n",
       "      <th>1</th>\n",
       "      <td>2</td>\n",
       "      <td>1</td>\n",
       "      <td>1</td>\n",
       "      <td>Cumings, Mrs. John Bradley (Florence Briggs Th...</td>\n",
       "      <td>female</td>\n",
       "      <td>38.0</td>\n",
       "      <td>1</td>\n",
       "      <td>0</td>\n",
       "      <td>PC 17599</td>\n",
       "      <td>71.2833</td>\n",
       "      <td>C85</td>\n",
       "      <td>C</td>\n",
       "    </tr>\n",
       "    <tr>\n",
       "      <th>2</th>\n",
       "      <td>3</td>\n",
       "      <td>1</td>\n",
       "      <td>3</td>\n",
       "      <td>Heikkinen, Miss. Laina</td>\n",
       "      <td>female</td>\n",
       "      <td>26.0</td>\n",
       "      <td>0</td>\n",
       "      <td>0</td>\n",
       "      <td>STON/O2. 3101282</td>\n",
       "      <td>7.9250</td>\n",
       "      <td>NaN</td>\n",
       "      <td>S</td>\n",
       "    </tr>\n",
       "    <tr>\n",
       "      <th>3</th>\n",
       "      <td>4</td>\n",
       "      <td>1</td>\n",
       "      <td>1</td>\n",
       "      <td>Futrelle, Mrs. Jacques Heath (Lily May Peel)</td>\n",
       "      <td>female</td>\n",
       "      <td>35.0</td>\n",
       "      <td>1</td>\n",
       "      <td>0</td>\n",
       "      <td>113803</td>\n",
       "      <td>53.1000</td>\n",
       "      <td>C123</td>\n",
       "      <td>S</td>\n",
       "    </tr>\n",
       "    <tr>\n",
       "      <th>4</th>\n",
       "      <td>5</td>\n",
       "      <td>0</td>\n",
       "      <td>3</td>\n",
       "      <td>Allen, Mr. William Henry</td>\n",
       "      <td>male</td>\n",
       "      <td>35.0</td>\n",
       "      <td>0</td>\n",
       "      <td>0</td>\n",
       "      <td>373450</td>\n",
       "      <td>8.0500</td>\n",
       "      <td>NaN</td>\n",
       "      <td>S</td>\n",
       "    </tr>\n",
       "    <tr>\n",
       "      <th>...</th>\n",
       "      <td>...</td>\n",
       "      <td>...</td>\n",
       "      <td>...</td>\n",
       "      <td>...</td>\n",
       "      <td>...</td>\n",
       "      <td>...</td>\n",
       "      <td>...</td>\n",
       "      <td>...</td>\n",
       "      <td>...</td>\n",
       "      <td>...</td>\n",
       "      <td>...</td>\n",
       "      <td>...</td>\n",
       "    </tr>\n",
       "    <tr>\n",
       "      <th>886</th>\n",
       "      <td>887</td>\n",
       "      <td>0</td>\n",
       "      <td>2</td>\n",
       "      <td>Montvila, Rev. Juozas</td>\n",
       "      <td>male</td>\n",
       "      <td>27.0</td>\n",
       "      <td>0</td>\n",
       "      <td>0</td>\n",
       "      <td>211536</td>\n",
       "      <td>13.0000</td>\n",
       "      <td>NaN</td>\n",
       "      <td>S</td>\n",
       "    </tr>\n",
       "    <tr>\n",
       "      <th>887</th>\n",
       "      <td>888</td>\n",
       "      <td>1</td>\n",
       "      <td>1</td>\n",
       "      <td>Graham, Miss. Margaret Edith</td>\n",
       "      <td>female</td>\n",
       "      <td>19.0</td>\n",
       "      <td>0</td>\n",
       "      <td>0</td>\n",
       "      <td>112053</td>\n",
       "      <td>30.0000</td>\n",
       "      <td>B42</td>\n",
       "      <td>S</td>\n",
       "    </tr>\n",
       "    <tr>\n",
       "      <th>888</th>\n",
       "      <td>889</td>\n",
       "      <td>0</td>\n",
       "      <td>3</td>\n",
       "      <td>Johnston, Miss. Catherine Helen \"Carrie\"</td>\n",
       "      <td>female</td>\n",
       "      <td>NaN</td>\n",
       "      <td>1</td>\n",
       "      <td>2</td>\n",
       "      <td>W./C. 6607</td>\n",
       "      <td>23.4500</td>\n",
       "      <td>NaN</td>\n",
       "      <td>S</td>\n",
       "    </tr>\n",
       "    <tr>\n",
       "      <th>889</th>\n",
       "      <td>890</td>\n",
       "      <td>1</td>\n",
       "      <td>1</td>\n",
       "      <td>Behr, Mr. Karl Howell</td>\n",
       "      <td>male</td>\n",
       "      <td>26.0</td>\n",
       "      <td>0</td>\n",
       "      <td>0</td>\n",
       "      <td>111369</td>\n",
       "      <td>30.0000</td>\n",
       "      <td>C148</td>\n",
       "      <td>C</td>\n",
       "    </tr>\n",
       "    <tr>\n",
       "      <th>890</th>\n",
       "      <td>891</td>\n",
       "      <td>0</td>\n",
       "      <td>3</td>\n",
       "      <td>Dooley, Mr. Patrick</td>\n",
       "      <td>male</td>\n",
       "      <td>32.0</td>\n",
       "      <td>0</td>\n",
       "      <td>0</td>\n",
       "      <td>370376</td>\n",
       "      <td>7.7500</td>\n",
       "      <td>NaN</td>\n",
       "      <td>Q</td>\n",
       "    </tr>\n",
       "  </tbody>\n",
       "</table>\n",
       "<p>891 rows × 12 columns</p>\n",
       "</div>"
      ],
      "text/plain": [
       "     PassengerId  Survived  Pclass  \\\n",
       "0              1         0       3   \n",
       "1              2         1       1   \n",
       "2              3         1       3   \n",
       "3              4         1       1   \n",
       "4              5         0       3   \n",
       "..           ...       ...     ...   \n",
       "886          887         0       2   \n",
       "887          888         1       1   \n",
       "888          889         0       3   \n",
       "889          890         1       1   \n",
       "890          891         0       3   \n",
       "\n",
       "                                                  Name     Sex   Age  SibSp  \\\n",
       "0                              Braund, Mr. Owen Harris    male  22.0      1   \n",
       "1    Cumings, Mrs. John Bradley (Florence Briggs Th...  female  38.0      1   \n",
       "2                               Heikkinen, Miss. Laina  female  26.0      0   \n",
       "3         Futrelle, Mrs. Jacques Heath (Lily May Peel)  female  35.0      1   \n",
       "4                             Allen, Mr. William Henry    male  35.0      0   \n",
       "..                                                 ...     ...   ...    ...   \n",
       "886                              Montvila, Rev. Juozas    male  27.0      0   \n",
       "887                       Graham, Miss. Margaret Edith  female  19.0      0   \n",
       "888           Johnston, Miss. Catherine Helen \"Carrie\"  female   NaN      1   \n",
       "889                              Behr, Mr. Karl Howell    male  26.0      0   \n",
       "890                                Dooley, Mr. Patrick    male  32.0      0   \n",
       "\n",
       "     Parch            Ticket     Fare Cabin Embarked  \n",
       "0        0         A/5 21171   7.2500   NaN        S  \n",
       "1        0          PC 17599  71.2833   C85        C  \n",
       "2        0  STON/O2. 3101282   7.9250   NaN        S  \n",
       "3        0            113803  53.1000  C123        S  \n",
       "4        0            373450   8.0500   NaN        S  \n",
       "..     ...               ...      ...   ...      ...  \n",
       "886      0            211536  13.0000   NaN        S  \n",
       "887      0            112053  30.0000   B42        S  \n",
       "888      2        W./C. 6607  23.4500   NaN        S  \n",
       "889      0            111369  30.0000  C148        C  \n",
       "890      0            370376   7.7500   NaN        Q  \n",
       "\n",
       "[891 rows x 12 columns]"
      ]
     },
     "execution_count": 4,
     "metadata": {},
     "output_type": "execute_result"
    }
   ],
   "source": [
    "train_data"
   ]
  },
  {
   "cell_type": "code",
   "execution_count": 5,
   "id": "356ed905",
   "metadata": {
    "execution": {
     "iopub.execute_input": "2022-08-19T16:11:58.617676Z",
     "iopub.status.busy": "2022-08-19T16:11:58.616880Z",
     "iopub.status.idle": "2022-08-19T16:11:58.628624Z",
     "shell.execute_reply": "2022-08-19T16:11:58.626505Z"
    },
    "papermill": {
     "duration": 0.025595,
     "end_time": "2022-08-19T16:11:58.631334",
     "exception": false,
     "start_time": "2022-08-19T16:11:58.605739",
     "status": "completed"
    },
    "tags": []
   },
   "outputs": [
    {
     "name": "stdout",
     "output_type": "stream",
     "text": [
      "PassengerId      0\n",
      "Survived         0\n",
      "Pclass           0\n",
      "Name             0\n",
      "Sex              0\n",
      "Age            177\n",
      "SibSp            0\n",
      "Parch            0\n",
      "Ticket           0\n",
      "Fare             0\n",
      "Cabin          687\n",
      "Embarked         2\n",
      "dtype: int64\n",
      "PassengerId      0\n",
      "Pclass           0\n",
      "Name             0\n",
      "Sex              0\n",
      "Age             86\n",
      "SibSp            0\n",
      "Parch            0\n",
      "Ticket           0\n",
      "Fare             1\n",
      "Cabin          327\n",
      "Embarked         0\n",
      "dtype: int64\n"
     ]
    }
   ],
   "source": [
    "#Looking for null values \n",
    "print(train_data.isnull().sum())\n",
    "print(test_data.isnull().sum())"
   ]
  },
  {
   "cell_type": "markdown",
   "id": "f613d9df",
   "metadata": {
    "papermill": {
     "duration": 0.009299,
     "end_time": "2022-08-19T16:11:58.650774",
     "exception": false,
     "start_time": "2022-08-19T16:11:58.641475",
     "status": "completed"
    },
    "tags": []
   },
   "source": [
    "Seems like there are quite a few values missing in the cabin column ,some in the age column and a few missing from the Fare and embarked columns"
   ]
  },
  {
   "cell_type": "markdown",
   "id": "0abfb80e",
   "metadata": {
    "papermill": {
     "duration": 0.009162,
     "end_time": "2022-08-19T16:11:58.669482",
     "exception": false,
     "start_time": "2022-08-19T16:11:58.660320",
     "status": "completed"
    },
    "tags": []
   },
   "source": []
  },
  {
   "cell_type": "code",
   "execution_count": 6,
   "id": "7053596f",
   "metadata": {
    "execution": {
     "iopub.execute_input": "2022-08-19T16:11:58.692150Z",
     "iopub.status.busy": "2022-08-19T16:11:58.691378Z",
     "iopub.status.idle": "2022-08-19T16:11:58.750323Z",
     "shell.execute_reply": "2022-08-19T16:11:58.749033Z"
    },
    "papermill": {
     "duration": 0.07259,
     "end_time": "2022-08-19T16:11:58.752813",
     "exception": false,
     "start_time": "2022-08-19T16:11:58.680223",
     "status": "completed"
    },
    "tags": []
   },
   "outputs": [
    {
     "name": "stdout",
     "output_type": "stream",
     "text": [
      "Percentage of missing values in Age:20.1%\n",
      "Percentage of missing values in Fare:0.1%\n",
      "Percentage of missing values in Cabin:77.5%\n",
      "Percentage of missing values in Embarked:0.2%\n"
     ]
    }
   ],
   "source": [
    "for incomp_var in train_data.columns:\n",
    "    missing_value=pd.concat(datasets)[incomp_var].isnull().sum()\n",
    "    if missing_value>0 and incomp_var!='Survived':\n",
    "        total_value=pd.concat(datasets).shape[0]\n",
    "        print(f\"Percentage of missing values in {incomp_var}:\"\n",
    "             f\"{missing_value/total_value*100:.1f}%\")"
   ]
  },
  {
   "cell_type": "markdown",
   "id": "19cad432",
   "metadata": {
    "papermill": {
     "duration": 0.009172,
     "end_time": "2022-08-19T16:11:58.771659",
     "exception": false,
     "start_time": "2022-08-19T16:11:58.762487",
     "status": "completed"
    },
    "tags": []
   },
   "source": [
    "**Since percentage of missing values in Cabin is very high, we are just not going to consider this feature and drop it.  Additionally, I am going to drop PassengerId and Ticket from the training dataset since they have no meaningfull relation to the survival rates.**"
   ]
  },
  {
   "cell_type": "code",
   "execution_count": 7,
   "id": "eac454e3",
   "metadata": {
    "execution": {
     "iopub.execute_input": "2022-08-19T16:11:58.793013Z",
     "iopub.status.busy": "2022-08-19T16:11:58.792228Z",
     "iopub.status.idle": "2022-08-19T16:11:58.799288Z",
     "shell.execute_reply": "2022-08-19T16:11:58.798371Z"
    },
    "papermill": {
     "duration": 0.020485,
     "end_time": "2022-08-19T16:11:58.801684",
     "exception": false,
     "start_time": "2022-08-19T16:11:58.781199",
     "status": "completed"
    },
    "tags": []
   },
   "outputs": [],
   "source": [
    "drop_column=['Cabin','Ticket','PassengerId']\n",
    "for dataset in datasets:\n",
    "    dataset.drop(drop_column, axis=1, inplace=True)"
   ]
  },
  {
   "cell_type": "markdown",
   "id": "e786ff36",
   "metadata": {
    "papermill": {
     "duration": 0.009882,
     "end_time": "2022-08-19T16:11:58.821493",
     "exception": false,
     "start_time": "2022-08-19T16:11:58.811611",
     "status": "completed"
    },
    "tags": []
   },
   "source": [
    "**As for the other 3 columns missing datasets, I'm going to replace the null values with the medians of the available ones for the columns with the numerical values and as for the 'Embarked' column I will replace the null values with value that occurs the most number of times. This would give us the most accurate predictions. Later I will include an Imputer which would automate these processes.**"
   ]
  },
  {
   "cell_type": "code",
   "execution_count": 8,
   "id": "dcf0566c",
   "metadata": {
    "execution": {
     "iopub.execute_input": "2022-08-19T16:11:58.843012Z",
     "iopub.status.busy": "2022-08-19T16:11:58.842231Z",
     "iopub.status.idle": "2022-08-19T16:11:58.855125Z",
     "shell.execute_reply": "2022-08-19T16:11:58.854076Z"
    },
    "papermill": {
     "duration": 0.026396,
     "end_time": "2022-08-19T16:11:58.857698",
     "exception": false,
     "start_time": "2022-08-19T16:11:58.831302",
     "status": "completed"
    },
    "tags": []
   },
   "outputs": [],
   "source": [
    "for dataset in datasets:\n",
    "    dataset.Age.fillna(dataset.Age.median(),inplace=True)\n",
    "    dataset.Embarked.fillna(dataset.Embarked.mode()[0],inplace=True)\n",
    "    dataset.Fare.fillna(dataset.Fare.median(),inplace=True)"
   ]
  },
  {
   "cell_type": "code",
   "execution_count": 9,
   "id": "aa127292",
   "metadata": {
    "execution": {
     "iopub.execute_input": "2022-08-19T16:11:58.879185Z",
     "iopub.status.busy": "2022-08-19T16:11:58.878457Z",
     "iopub.status.idle": "2022-08-19T16:11:58.888782Z",
     "shell.execute_reply": "2022-08-19T16:11:58.887346Z"
    },
    "papermill": {
     "duration": 0.02391,
     "end_time": "2022-08-19T16:11:58.891410",
     "exception": false,
     "start_time": "2022-08-19T16:11:58.867500",
     "status": "completed"
    },
    "tags": []
   },
   "outputs": [
    {
     "name": "stdout",
     "output_type": "stream",
     "text": [
      "Survived    0\n",
      "Pclass      0\n",
      "Name        0\n",
      "Sex         0\n",
      "Age         0\n",
      "SibSp       0\n",
      "Parch       0\n",
      "Fare        0\n",
      "Embarked    0\n",
      "dtype: int64\n",
      "Pclass      0\n",
      "Name        0\n",
      "Sex         0\n",
      "Age         0\n",
      "SibSp       0\n",
      "Parch       0\n",
      "Fare        0\n",
      "Embarked    0\n",
      "dtype: int64\n"
     ]
    }
   ],
   "source": [
    "#Lets make sure there are no more null values \n",
    "print(train_data.isnull().sum())\n",
    "print(test_data.isnull().sum())"
   ]
  },
  {
   "cell_type": "markdown",
   "id": "14f628cc",
   "metadata": {
    "papermill": {
     "duration": 0.009358,
     "end_time": "2022-08-19T16:11:58.910587",
     "exception": false,
     "start_time": "2022-08-19T16:11:58.901229",
     "status": "completed"
    },
    "tags": []
   },
   "source": [
    "### Feature Engineering \n",
    "Coming up with some new attributes for the model to intepret behaviours for better predictions.\n",
    "1. FamilySize - Size of family. 1 represent that the passenger was travelling alone.\n",
    "2. Title - The indivuals title indicating social status \n",
    "3. Farebin and Agebin - Binning the values to reduce the impact of minor observation errors. It also takes care of some outliers. <br>\n",
    "**Binning basically refers to compressing/bucketing the data in ranges to simplify it.**"
   ]
  },
  {
   "cell_type": "code",
   "execution_count": 10,
   "id": "4c74fcda",
   "metadata": {
    "execution": {
     "iopub.execute_input": "2022-08-19T16:11:58.932132Z",
     "iopub.status.busy": "2022-08-19T16:11:58.931410Z",
     "iopub.status.idle": "2022-08-19T16:11:58.961073Z",
     "shell.execute_reply": "2022-08-19T16:11:58.959951Z"
    },
    "papermill": {
     "duration": 0.043514,
     "end_time": "2022-08-19T16:11:58.963759",
     "exception": false,
     "start_time": "2022-08-19T16:11:58.920245",
     "status": "completed"
    },
    "tags": []
   },
   "outputs": [],
   "source": [
    "#defining a function that gives usproper bin names\n",
    "def bin_labels(bin_name,number_of_bins):\n",
    "    labels=[]\n",
    "    for i in range(number_of_bins):\n",
    "        labels.append(bin_name + f\"_{i}\")\n",
    "    return labels\n",
    "\n",
    "#Lets define the new attributes in the dataset \n",
    "for dataset in datasets:\n",
    "    dataset[\"FamilySize\"]= dataset.SibSp + dataset.Parch + 1 # 1 is the passenger themselves\n",
    "    dataset[\"Title\"]=dataset.Name.str.extract(r\"([A-Za-z]+)\\.\",expand= False)\n",
    "    dataset[\"FareBin\"]=pd.qcut(dataset.Fare,4,labels=bin_labels(\"FareBin\",4))\n",
    "    dataset[\"AgeBin\"]=pd.cut(dataset.Age.astype(int),5,labels=bin_labels(\"AgeBin\",5))"
   ]
  },
  {
   "cell_type": "code",
   "execution_count": 11,
   "id": "7b45731f",
   "metadata": {
    "execution": {
     "iopub.execute_input": "2022-08-19T16:11:58.985686Z",
     "iopub.status.busy": "2022-08-19T16:11:58.984884Z",
     "iopub.status.idle": "2022-08-19T16:11:59.011980Z",
     "shell.execute_reply": "2022-08-19T16:11:59.010681Z"
    },
    "papermill": {
     "duration": 0.041247,
     "end_time": "2022-08-19T16:11:59.014731",
     "exception": false,
     "start_time": "2022-08-19T16:11:58.973484",
     "status": "completed"
    },
    "tags": []
   },
   "outputs": [
    {
     "data": {
      "text/html": [
       "<div>\n",
       "<style scoped>\n",
       "    .dataframe tbody tr th:only-of-type {\n",
       "        vertical-align: middle;\n",
       "    }\n",
       "\n",
       "    .dataframe tbody tr th {\n",
       "        vertical-align: top;\n",
       "    }\n",
       "\n",
       "    .dataframe thead th {\n",
       "        text-align: right;\n",
       "    }\n",
       "</style>\n",
       "<table border=\"1\" class=\"dataframe\">\n",
       "  <thead>\n",
       "    <tr style=\"text-align: right;\">\n",
       "      <th></th>\n",
       "      <th>Survived</th>\n",
       "      <th>Pclass</th>\n",
       "      <th>Name</th>\n",
       "      <th>Sex</th>\n",
       "      <th>Age</th>\n",
       "      <th>SibSp</th>\n",
       "      <th>Parch</th>\n",
       "      <th>Fare</th>\n",
       "      <th>Embarked</th>\n",
       "      <th>FamilySize</th>\n",
       "      <th>Title</th>\n",
       "      <th>FareBin</th>\n",
       "      <th>AgeBin</th>\n",
       "    </tr>\n",
       "  </thead>\n",
       "  <tbody>\n",
       "    <tr>\n",
       "      <th>0</th>\n",
       "      <td>0</td>\n",
       "      <td>3</td>\n",
       "      <td>Braund, Mr. Owen Harris</td>\n",
       "      <td>male</td>\n",
       "      <td>22.0</td>\n",
       "      <td>1</td>\n",
       "      <td>0</td>\n",
       "      <td>7.2500</td>\n",
       "      <td>S</td>\n",
       "      <td>2</td>\n",
       "      <td>Mr</td>\n",
       "      <td>FareBin_0</td>\n",
       "      <td>AgeBin_1</td>\n",
       "    </tr>\n",
       "    <tr>\n",
       "      <th>1</th>\n",
       "      <td>1</td>\n",
       "      <td>1</td>\n",
       "      <td>Cumings, Mrs. John Bradley (Florence Briggs Th...</td>\n",
       "      <td>female</td>\n",
       "      <td>38.0</td>\n",
       "      <td>1</td>\n",
       "      <td>0</td>\n",
       "      <td>71.2833</td>\n",
       "      <td>C</td>\n",
       "      <td>2</td>\n",
       "      <td>Mrs</td>\n",
       "      <td>FareBin_3</td>\n",
       "      <td>AgeBin_2</td>\n",
       "    </tr>\n",
       "    <tr>\n",
       "      <th>2</th>\n",
       "      <td>1</td>\n",
       "      <td>3</td>\n",
       "      <td>Heikkinen, Miss. Laina</td>\n",
       "      <td>female</td>\n",
       "      <td>26.0</td>\n",
       "      <td>0</td>\n",
       "      <td>0</td>\n",
       "      <td>7.9250</td>\n",
       "      <td>S</td>\n",
       "      <td>1</td>\n",
       "      <td>Miss</td>\n",
       "      <td>FareBin_1</td>\n",
       "      <td>AgeBin_1</td>\n",
       "    </tr>\n",
       "    <tr>\n",
       "      <th>3</th>\n",
       "      <td>1</td>\n",
       "      <td>1</td>\n",
       "      <td>Futrelle, Mrs. Jacques Heath (Lily May Peel)</td>\n",
       "      <td>female</td>\n",
       "      <td>35.0</td>\n",
       "      <td>1</td>\n",
       "      <td>0</td>\n",
       "      <td>53.1000</td>\n",
       "      <td>S</td>\n",
       "      <td>2</td>\n",
       "      <td>Mrs</td>\n",
       "      <td>FareBin_3</td>\n",
       "      <td>AgeBin_2</td>\n",
       "    </tr>\n",
       "    <tr>\n",
       "      <th>4</th>\n",
       "      <td>0</td>\n",
       "      <td>3</td>\n",
       "      <td>Allen, Mr. William Henry</td>\n",
       "      <td>male</td>\n",
       "      <td>35.0</td>\n",
       "      <td>0</td>\n",
       "      <td>0</td>\n",
       "      <td>8.0500</td>\n",
       "      <td>S</td>\n",
       "      <td>1</td>\n",
       "      <td>Mr</td>\n",
       "      <td>FareBin_1</td>\n",
       "      <td>AgeBin_2</td>\n",
       "    </tr>\n",
       "    <tr>\n",
       "      <th>...</th>\n",
       "      <td>...</td>\n",
       "      <td>...</td>\n",
       "      <td>...</td>\n",
       "      <td>...</td>\n",
       "      <td>...</td>\n",
       "      <td>...</td>\n",
       "      <td>...</td>\n",
       "      <td>...</td>\n",
       "      <td>...</td>\n",
       "      <td>...</td>\n",
       "      <td>...</td>\n",
       "      <td>...</td>\n",
       "      <td>...</td>\n",
       "    </tr>\n",
       "    <tr>\n",
       "      <th>886</th>\n",
       "      <td>0</td>\n",
       "      <td>2</td>\n",
       "      <td>Montvila, Rev. Juozas</td>\n",
       "      <td>male</td>\n",
       "      <td>27.0</td>\n",
       "      <td>0</td>\n",
       "      <td>0</td>\n",
       "      <td>13.0000</td>\n",
       "      <td>S</td>\n",
       "      <td>1</td>\n",
       "      <td>Rev</td>\n",
       "      <td>FareBin_1</td>\n",
       "      <td>AgeBin_1</td>\n",
       "    </tr>\n",
       "    <tr>\n",
       "      <th>887</th>\n",
       "      <td>1</td>\n",
       "      <td>1</td>\n",
       "      <td>Graham, Miss. Margaret Edith</td>\n",
       "      <td>female</td>\n",
       "      <td>19.0</td>\n",
       "      <td>0</td>\n",
       "      <td>0</td>\n",
       "      <td>30.0000</td>\n",
       "      <td>S</td>\n",
       "      <td>1</td>\n",
       "      <td>Miss</td>\n",
       "      <td>FareBin_2</td>\n",
       "      <td>AgeBin_1</td>\n",
       "    </tr>\n",
       "    <tr>\n",
       "      <th>888</th>\n",
       "      <td>0</td>\n",
       "      <td>3</td>\n",
       "      <td>Johnston, Miss. Catherine Helen \"Carrie\"</td>\n",
       "      <td>female</td>\n",
       "      <td>28.0</td>\n",
       "      <td>1</td>\n",
       "      <td>2</td>\n",
       "      <td>23.4500</td>\n",
       "      <td>S</td>\n",
       "      <td>4</td>\n",
       "      <td>Miss</td>\n",
       "      <td>FareBin_2</td>\n",
       "      <td>AgeBin_1</td>\n",
       "    </tr>\n",
       "    <tr>\n",
       "      <th>889</th>\n",
       "      <td>1</td>\n",
       "      <td>1</td>\n",
       "      <td>Behr, Mr. Karl Howell</td>\n",
       "      <td>male</td>\n",
       "      <td>26.0</td>\n",
       "      <td>0</td>\n",
       "      <td>0</td>\n",
       "      <td>30.0000</td>\n",
       "      <td>C</td>\n",
       "      <td>1</td>\n",
       "      <td>Mr</td>\n",
       "      <td>FareBin_2</td>\n",
       "      <td>AgeBin_1</td>\n",
       "    </tr>\n",
       "    <tr>\n",
       "      <th>890</th>\n",
       "      <td>0</td>\n",
       "      <td>3</td>\n",
       "      <td>Dooley, Mr. Patrick</td>\n",
       "      <td>male</td>\n",
       "      <td>32.0</td>\n",
       "      <td>0</td>\n",
       "      <td>0</td>\n",
       "      <td>7.7500</td>\n",
       "      <td>Q</td>\n",
       "      <td>1</td>\n",
       "      <td>Mr</td>\n",
       "      <td>FareBin_0</td>\n",
       "      <td>AgeBin_1</td>\n",
       "    </tr>\n",
       "  </tbody>\n",
       "</table>\n",
       "<p>891 rows × 13 columns</p>\n",
       "</div>"
      ],
      "text/plain": [
       "     Survived  Pclass                                               Name  \\\n",
       "0           0       3                            Braund, Mr. Owen Harris   \n",
       "1           1       1  Cumings, Mrs. John Bradley (Florence Briggs Th...   \n",
       "2           1       3                             Heikkinen, Miss. Laina   \n",
       "3           1       1       Futrelle, Mrs. Jacques Heath (Lily May Peel)   \n",
       "4           0       3                           Allen, Mr. William Henry   \n",
       "..        ...     ...                                                ...   \n",
       "886         0       2                              Montvila, Rev. Juozas   \n",
       "887         1       1                       Graham, Miss. Margaret Edith   \n",
       "888         0       3           Johnston, Miss. Catherine Helen \"Carrie\"   \n",
       "889         1       1                              Behr, Mr. Karl Howell   \n",
       "890         0       3                                Dooley, Mr. Patrick   \n",
       "\n",
       "        Sex   Age  SibSp  Parch     Fare Embarked  FamilySize Title  \\\n",
       "0      male  22.0      1      0   7.2500        S           2    Mr   \n",
       "1    female  38.0      1      0  71.2833        C           2   Mrs   \n",
       "2    female  26.0      0      0   7.9250        S           1  Miss   \n",
       "3    female  35.0      1      0  53.1000        S           2   Mrs   \n",
       "4      male  35.0      0      0   8.0500        S           1    Mr   \n",
       "..      ...   ...    ...    ...      ...      ...         ...   ...   \n",
       "886    male  27.0      0      0  13.0000        S           1   Rev   \n",
       "887  female  19.0      0      0  30.0000        S           1  Miss   \n",
       "888  female  28.0      1      2  23.4500        S           4  Miss   \n",
       "889    male  26.0      0      0  30.0000        C           1    Mr   \n",
       "890    male  32.0      0      0   7.7500        Q           1    Mr   \n",
       "\n",
       "       FareBin    AgeBin  \n",
       "0    FareBin_0  AgeBin_1  \n",
       "1    FareBin_3  AgeBin_2  \n",
       "2    FareBin_1  AgeBin_1  \n",
       "3    FareBin_3  AgeBin_2  \n",
       "4    FareBin_1  AgeBin_2  \n",
       "..         ...       ...  \n",
       "886  FareBin_1  AgeBin_1  \n",
       "887  FareBin_2  AgeBin_1  \n",
       "888  FareBin_2  AgeBin_1  \n",
       "889  FareBin_2  AgeBin_1  \n",
       "890  FareBin_0  AgeBin_1  \n",
       "\n",
       "[891 rows x 13 columns]"
      ]
     },
     "execution_count": 11,
     "metadata": {},
     "output_type": "execute_result"
    }
   ],
   "source": [
    "train_data"
   ]
  },
  {
   "cell_type": "markdown",
   "id": "d17ca2dd",
   "metadata": {
    "papermill": {
     "duration": 0.010022,
     "end_time": "2022-08-19T16:11:59.035354",
     "exception": false,
     "start_time": "2022-08-19T16:11:59.025332",
     "status": "completed"
    },
    "tags": []
   },
   "source": [
    "**Now lets remove the unnecessary outdated columns**"
   ]
  },
  {
   "cell_type": "code",
   "execution_count": 12,
   "id": "76f61373",
   "metadata": {
    "execution": {
     "iopub.execute_input": "2022-08-19T16:11:59.058520Z",
     "iopub.status.busy": "2022-08-19T16:11:59.057713Z",
     "iopub.status.idle": "2022-08-19T16:11:59.065952Z",
     "shell.execute_reply": "2022-08-19T16:11:59.064914Z"
    },
    "papermill": {
     "duration": 0.022699,
     "end_time": "2022-08-19T16:11:59.068534",
     "exception": false,
     "start_time": "2022-08-19T16:11:59.045835",
     "status": "completed"
    },
    "tags": []
   },
   "outputs": [],
   "source": [
    "drop_columns=['Age','SibSp','Parch','Fare','Name']\n",
    "for dataset in datasets:\n",
    "    dataset.drop(drop_columns,axis =1 ,inplace=True)"
   ]
  },
  {
   "cell_type": "code",
   "execution_count": 13,
   "id": "8c129db1",
   "metadata": {
    "execution": {
     "iopub.execute_input": "2022-08-19T16:11:59.091316Z",
     "iopub.status.busy": "2022-08-19T16:11:59.090397Z",
     "iopub.status.idle": "2022-08-19T16:11:59.104140Z",
     "shell.execute_reply": "2022-08-19T16:11:59.102321Z"
    },
    "papermill": {
     "duration": 0.029049,
     "end_time": "2022-08-19T16:11:59.107913",
     "exception": false,
     "start_time": "2022-08-19T16:11:59.078864",
     "status": "completed"
    },
    "tags": []
   },
   "outputs": [
    {
     "name": "stdout",
     "output_type": "stream",
     "text": [
      "Mr          757\n",
      "Miss        260\n",
      "Mrs         197\n",
      "Master       61\n",
      "Rev           8\n",
      "Dr            8\n",
      "Col           4\n",
      "Mlle          2\n",
      "Major         2\n",
      "Ms            2\n",
      "Lady          1\n",
      "Sir           1\n",
      "Mme           1\n",
      "Don           1\n",
      "Capt          1\n",
      "Countess      1\n",
      "Jonkheer      1\n",
      "Dona          1\n",
      "Name: Title, dtype: int64\n"
     ]
    }
   ],
   "source": [
    "data=pd.concat(datasets)\n",
    "titles=data.Title.value_counts()\n",
    "print(titles)"
   ]
  },
  {
   "cell_type": "markdown",
   "id": "8872b833",
   "metadata": {
    "papermill": {
     "duration": 0.009823,
     "end_time": "2022-08-19T16:11:59.128424",
     "exception": false,
     "start_time": "2022-08-19T16:11:59.118601",
     "status": "completed"
    },
    "tags": []
   },
   "source": [
    "Since we got too many titles that are very few in numbers, they could affect the model and we dont want that. We categorize them under one name which will be represented as 'unique'."
   ]
  },
  {
   "cell_type": "code",
   "execution_count": 14,
   "id": "8832050f",
   "metadata": {
    "execution": {
     "iopub.execute_input": "2022-08-19T16:11:59.150647Z",
     "iopub.status.busy": "2022-08-19T16:11:59.149898Z",
     "iopub.status.idle": "2022-08-19T16:11:59.161160Z",
     "shell.execute_reply": "2022-08-19T16:11:59.159756Z"
    },
    "papermill": {
     "duration": 0.025369,
     "end_time": "2022-08-19T16:11:59.163859",
     "exception": false,
     "start_time": "2022-08-19T16:11:59.138490",
     "status": "completed"
    },
    "tags": []
   },
   "outputs": [],
   "source": [
    "unique_titles=titles[titles<10].index\n",
    "for dataset in datasets:\n",
    "    dataset.Title.replace(unique_titles,\"Unique\",inplace=True)"
   ]
  },
  {
   "cell_type": "markdown",
   "id": "308a21e5",
   "metadata": {
    "papermill": {
     "duration": 0.010145,
     "end_time": "2022-08-19T16:11:59.184794",
     "exception": false,
     "start_time": "2022-08-19T16:11:59.174649",
     "status": "completed"
    },
    "tags": []
   },
   "source": [
    "### Dummifying Categorical features \n",
    "It is advised to train the model with numerical values. Therefore, we change the categorical values like embarked and Title to numerical values using the pandas.get_dummies function without having to map or change the value of the data "
   ]
  },
  {
   "cell_type": "code",
   "execution_count": 15,
   "id": "8f0db918",
   "metadata": {
    "execution": {
     "iopub.execute_input": "2022-08-19T16:11:59.207304Z",
     "iopub.status.busy": "2022-08-19T16:11:59.206879Z",
     "iopub.status.idle": "2022-08-19T16:11:59.229826Z",
     "shell.execute_reply": "2022-08-19T16:11:59.228616Z"
    },
    "papermill": {
     "duration": 0.037164,
     "end_time": "2022-08-19T16:11:59.232531",
     "exception": false,
     "start_time": "2022-08-19T16:11:59.195367",
     "status": "completed"
    },
    "tags": []
   },
   "outputs": [],
   "source": [
    "Categorical_features=train_data.select_dtypes(exclude=np.number).columns\n",
    "x_train=pd.get_dummies(train_data,prefix=Categorical_features)\n",
    "x_test=pd.get_dummies(test_data,prefix=Categorical_features)\n",
    "x_test=x_test.to_numpy()"
   ]
  },
  {
   "cell_type": "markdown",
   "id": "fae24e54",
   "metadata": {
    "papermill": {
     "duration": 0.009744,
     "end_time": "2022-08-19T16:11:59.252512",
     "exception": false,
     "start_time": "2022-08-19T16:11:59.242768",
     "status": "completed"
    },
    "tags": []
   },
   "source": [
    "**Splitting the label(target) from the Features which is the survived column**"
   ]
  },
  {
   "cell_type": "code",
   "execution_count": 16,
   "id": "c43bfe07",
   "metadata": {
    "execution": {
     "iopub.execute_input": "2022-08-19T16:11:59.274441Z",
     "iopub.status.busy": "2022-08-19T16:11:59.273968Z",
     "iopub.status.idle": "2022-08-19T16:11:59.281867Z",
     "shell.execute_reply": "2022-08-19T16:11:59.280691Z"
    },
    "papermill": {
     "duration": 0.021666,
     "end_time": "2022-08-19T16:11:59.284094",
     "exception": false,
     "start_time": "2022-08-19T16:11:59.262428",
     "status": "completed"
    },
    "tags": []
   },
   "outputs": [],
   "source": [
    "target=\"Survived\"\n",
    "x_train=x_train.drop(columns=target)\n",
    "x_train=x_train.to_numpy()\n",
    "y_train=train_data[target].to_numpy()"
   ]
  },
  {
   "cell_type": "code",
   "execution_count": 17,
   "id": "5beae747",
   "metadata": {
    "execution": {
     "iopub.execute_input": "2022-08-19T16:11:59.306648Z",
     "iopub.status.busy": "2022-08-19T16:11:59.306209Z",
     "iopub.status.idle": "2022-08-19T16:11:59.315978Z",
     "shell.execute_reply": "2022-08-19T16:11:59.314833Z"
    },
    "papermill": {
     "duration": 0.023926,
     "end_time": "2022-08-19T16:11:59.318540",
     "exception": false,
     "start_time": "2022-08-19T16:11:59.294614",
     "status": "completed"
    },
    "tags": []
   },
   "outputs": [
    {
     "data": {
      "text/plain": [
       "(array([[3, 2, 0, ..., 0, 0, 0],\n",
       "        [1, 2, 1, ..., 1, 0, 0],\n",
       "        [3, 1, 1, ..., 0, 0, 0],\n",
       "        ...,\n",
       "        [3, 4, 1, ..., 0, 0, 0],\n",
       "        [1, 1, 0, ..., 0, 0, 0],\n",
       "        [3, 1, 0, ..., 0, 0, 0]]),\n",
       " array([0, 1, 1, 1, 0, 0, 0, 0, 1, 1, 1, 1, 0, 0, 0, 1, 0, 1, 0, 1, 0, 1,\n",
       "        1, 1, 0, 1, 0, 0, 1, 0, 0, 1, 1, 0, 0, 0, 1, 0, 0, 1, 0, 0, 0, 1,\n",
       "        1, 0, 0, 1, 0, 0, 0, 0, 1, 1, 0, 1, 1, 0, 1, 0, 0, 1, 0, 0, 0, 1,\n",
       "        1, 0, 1, 0, 0, 0, 0, 0, 1, 0, 0, 0, 1, 1, 0, 1, 1, 0, 1, 1, 0, 0,\n",
       "        1, 0, 0, 0, 0, 0, 0, 0, 0, 1, 1, 0, 0, 0, 0, 0, 0, 0, 1, 1, 0, 1,\n",
       "        0, 0, 0, 0, 0, 0, 0, 0, 0, 0, 0, 0, 0, 1, 0, 1, 0, 1, 1, 0, 0, 0,\n",
       "        0, 1, 0, 0, 1, 0, 0, 0, 0, 1, 1, 0, 0, 0, 1, 0, 0, 0, 0, 1, 0, 0,\n",
       "        0, 0, 1, 0, 0, 0, 0, 1, 0, 0, 0, 1, 1, 0, 0, 0, 0, 0, 1, 0, 0, 0,\n",
       "        0, 0, 0, 0, 0, 0, 0, 1, 1, 0, 1, 1, 0, 0, 1, 0, 1, 1, 1, 1, 0, 0,\n",
       "        1, 0, 0, 0, 0, 0, 1, 0, 0, 1, 1, 1, 0, 1, 0, 0, 0, 1, 1, 0, 1, 0,\n",
       "        1, 0, 0, 0, 1, 0, 1, 0, 0, 0, 1, 0, 0, 1, 0, 0, 0, 1, 0, 0, 0, 1,\n",
       "        0, 0, 0, 0, 0, 1, 1, 0, 0, 0, 0, 0, 0, 1, 1, 1, 1, 1, 0, 1, 0, 0,\n",
       "        0, 0, 0, 1, 1, 1, 0, 1, 1, 0, 1, 1, 0, 0, 0, 1, 0, 0, 0, 1, 0, 0,\n",
       "        1, 0, 1, 1, 1, 1, 0, 0, 0, 0, 0, 0, 1, 1, 1, 1, 0, 1, 0, 1, 1, 1,\n",
       "        0, 1, 1, 1, 0, 0, 0, 1, 1, 0, 1, 1, 0, 0, 1, 1, 0, 1, 0, 1, 1, 1,\n",
       "        1, 0, 0, 0, 1, 0, 0, 1, 1, 0, 1, 1, 0, 0, 0, 1, 1, 1, 1, 0, 0, 0,\n",
       "        0, 0, 0, 0, 1, 0, 1, 1, 0, 0, 0, 0, 0, 0, 1, 1, 1, 1, 1, 0, 0, 0,\n",
       "        0, 1, 1, 0, 0, 0, 1, 1, 0, 1, 0, 0, 0, 1, 0, 1, 1, 1, 0, 1, 1, 0,\n",
       "        0, 0, 0, 1, 1, 0, 0, 0, 0, 0, 0, 1, 0, 0, 0, 0, 1, 0, 1, 0, 1, 1,\n",
       "        0, 0, 0, 0, 0, 0, 0, 0, 1, 1, 0, 1, 1, 1, 1, 0, 0, 1, 0, 1, 0, 0,\n",
       "        1, 0, 0, 1, 1, 1, 1, 1, 1, 1, 0, 0, 0, 1, 0, 1, 0, 1, 1, 0, 1, 0,\n",
       "        0, 0, 0, 0, 0, 0, 0, 1, 0, 0, 1, 1, 0, 0, 0, 0, 0, 1, 0, 0, 0, 1,\n",
       "        1, 0, 1, 0, 0, 1, 0, 0, 0, 0, 0, 0, 1, 0, 0, 0, 0, 0, 0, 0, 1, 0,\n",
       "        1, 1, 0, 1, 1, 0, 1, 1, 0, 0, 1, 0, 1, 0, 1, 0, 0, 1, 0, 0, 1, 0,\n",
       "        0, 0, 1, 0, 0, 1, 0, 1, 0, 1, 0, 1, 1, 0, 0, 1, 0, 0, 1, 1, 0, 1,\n",
       "        1, 0, 0, 1, 1, 0, 1, 0, 1, 1, 0, 0, 0, 0, 0, 0, 0, 0, 0, 1, 1, 1,\n",
       "        1, 1, 0, 0, 1, 1, 0, 1, 1, 1, 0, 0, 0, 1, 0, 1, 0, 0, 0, 1, 0, 0,\n",
       "        0, 0, 1, 0, 0, 1, 1, 0, 0, 0, 1, 0, 0, 1, 1, 1, 0, 0, 1, 0, 0, 1,\n",
       "        0, 0, 1, 0, 0, 1, 1, 0, 0, 0, 0, 1, 0, 0, 1, 0, 1, 0, 0, 1, 0, 0,\n",
       "        0, 0, 0, 1, 0, 1, 1, 1, 0, 1, 0, 1, 0, 1, 0, 1, 0, 0, 0, 0, 0, 0,\n",
       "        1, 0, 0, 0, 1, 0, 0, 0, 0, 1, 1, 0, 0, 1, 0, 0, 0, 1, 0, 1, 0, 1,\n",
       "        0, 0, 0, 0, 0, 0, 0, 1, 1, 1, 1, 0, 0, 0, 0, 1, 0, 0, 1, 1, 0, 0,\n",
       "        0, 0, 1, 1, 1, 1, 1, 0, 1, 0, 0, 0, 1, 1, 0, 0, 1, 0, 0, 0, 1, 0,\n",
       "        1, 1, 0, 0, 1, 0, 0, 0, 0, 0, 0, 1, 0, 0, 1, 0, 1, 0, 1, 0, 0, 1,\n",
       "        0, 0, 1, 1, 0, 0, 1, 1, 0, 0, 0, 1, 0, 0, 1, 1, 0, 1, 0, 0, 0, 0,\n",
       "        0, 0, 0, 0, 1, 0, 0, 1, 0, 1, 1, 1, 0, 0, 0, 0, 1, 0, 1, 0, 0, 0,\n",
       "        0, 0, 0, 0, 1, 1, 0, 0, 0, 1, 1, 1, 1, 0, 0, 0, 0, 1, 0, 0, 0, 0,\n",
       "        0, 0, 0, 0, 0, 0, 1, 1, 0, 1, 0, 0, 0, 1, 1, 1, 1, 1, 0, 0, 0, 1,\n",
       "        0, 0, 1, 1, 0, 0, 1, 0, 0, 0, 0, 0, 0, 1, 0, 0, 0, 1, 0, 1, 1, 1,\n",
       "        1, 0, 0, 0, 1, 0, 0, 1, 1, 0, 0, 1, 0, 1, 0, 0, 1, 1, 0, 0, 0, 1,\n",
       "        1, 0, 0, 0, 0, 0, 0, 1, 0, 1, 0]))"
      ]
     },
     "execution_count": 17,
     "metadata": {},
     "output_type": "execute_result"
    }
   ],
   "source": [
    "x_train,y_train "
   ]
  },
  {
   "cell_type": "markdown",
   "id": "d731e3d3",
   "metadata": {
    "papermill": {
     "duration": 0.010087,
     "end_time": "2022-08-19T16:11:59.339159",
     "exception": false,
     "start_time": "2022-08-19T16:11:59.329072",
     "status": "completed"
    },
    "tags": []
   },
   "source": [
    "## Building the model \n"
   ]
  },
  {
   "cell_type": "markdown",
   "id": "8141b26c",
   "metadata": {
    "papermill": {
     "duration": 0.010178,
     "end_time": "2022-08-19T16:11:59.360131",
     "exception": false,
     "start_time": "2022-08-19T16:11:59.349953",
     "status": "completed"
    },
    "tags": []
   },
   "source": [
    "Here I am going to test the data on a few different classifiers and finally analyze the "
   ]
  },
  {
   "cell_type": "code",
   "execution_count": 18,
   "id": "c5c57bc9",
   "metadata": {
    "execution": {
     "iopub.execute_input": "2022-08-19T16:11:59.382611Z",
     "iopub.status.busy": "2022-08-19T16:11:59.381935Z",
     "iopub.status.idle": "2022-08-19T16:12:00.836457Z",
     "shell.execute_reply": "2022-08-19T16:12:00.835387Z"
    },
    "papermill": {
     "duration": 1.468859,
     "end_time": "2022-08-19T16:12:00.839295",
     "exception": false,
     "start_time": "2022-08-19T16:11:59.370436",
     "status": "completed"
    },
    "tags": []
   },
   "outputs": [],
   "source": [
    "#Importing dependencies for building the model\n",
    "from sklearn.model_selection import GridSearchCV, ShuffleSplit\n",
    "from xgboost import XGBClassifier\n",
    "from sklearn.tree import DecisionTreeClassifier \n",
    "from sklearn.ensemble import RandomForestClassifier\n",
    "from sklearn.naive_bayes import GaussianNB\n",
    "from sklearn.linear_model import LogisticRegression\n",
    "from sklearn.svm import SVC \n",
    "from sklearn.linear_model import SGDClassifier"
   ]
  },
  {
   "cell_type": "markdown",
   "id": "16a8bbc5",
   "metadata": {
    "papermill": {
     "duration": 0.010057,
     "end_time": "2022-08-19T16:12:00.860375",
     "exception": false,
     "start_time": "2022-08-19T16:12:00.850318",
     "status": "completed"
    },
    "tags": []
   },
   "source": [
    "**I'm going to use the GridSearchCV method to perform cross validation and fine tune  based on the parameters defined**"
   ]
  },
  {
   "cell_type": "code",
   "execution_count": 19,
   "id": "47a607a6",
   "metadata": {
    "execution": {
     "iopub.execute_input": "2022-08-19T16:12:00.882896Z",
     "iopub.status.busy": "2022-08-19T16:12:00.882475Z",
     "iopub.status.idle": "2022-08-19T16:12:05.043803Z",
     "shell.execute_reply": "2022-08-19T16:12:05.042874Z"
    },
    "papermill": {
     "duration": 4.175446,
     "end_time": "2022-08-19T16:12:05.046222",
     "exception": false,
     "start_time": "2022-08-19T16:12:00.870776",
     "status": "completed"
    },
    "tags": []
   },
   "outputs": [
    {
     "data": {
      "text/plain": [
       "GridSearchCV(cv=ShuffleSplit(n_splits=3, random_state=42, test_size=0.2, train_size=None),\n",
       "             estimator=XGBClassifier(base_score=None, booster=None,\n",
       "                                     callbacks=None, colsample_bylevel=None,\n",
       "                                     colsample_bynode=None,\n",
       "                                     colsample_bytree=None,\n",
       "                                     early_stopping_rounds=None,\n",
       "                                     enable_categorical=False, eval_metric=None,\n",
       "                                     gamma=None, gpu_id=None, grow_policy=None,\n",
       "                                     importance_type=Non...\n",
       "                                     max_cat_to_onehot=None,\n",
       "                                     max_delta_step=None, max_depth=None,\n",
       "                                     max_leaves=None, min_child_weight=None,\n",
       "                                     missing=nan, monotone_constraints=None,\n",
       "                                     n_estimators=100, n_jobs=None,\n",
       "                                     num_parallel_tree=None, predictor=None,\n",
       "                                     random_state=None, reg_alpha=None,\n",
       "                                     reg_lambda=None, ...),\n",
       "             param_grid={'learning_rate': [0.01, 0.1, 1],\n",
       "                         'max_depth': [1, 2, 3, 4],\n",
       "                         'n_estimators': [1, 2, 3, 4]},\n",
       "             scoring='f1')"
      ]
     },
     "execution_count": 19,
     "metadata": {},
     "output_type": "execute_result"
    }
   ],
   "source": [
    "cv= ShuffleSplit(n_splits=3,test_size=0.2,random_state=42)\n",
    "\n",
    "#parameter settings for SGDClassifier\n",
    "# parameters={\n",
    "#     'alpha': [1e-4, 1e-3, 1e-2, 1e-1, 1e0, 1e1, 1e2, 1e3], # learning rate\n",
    "#     'max_iter': [1000], # number of epochs\n",
    "#     'penalty': ['l2'],\n",
    "#     'n_jobs': [-1]\n",
    "# }\n",
    "\n",
    "#parameter settings for SVC\n",
    "\n",
    "# parameters={\n",
    "#     'C': [0.1,1, 10, 100],\n",
    "#     'gamma': [1,0.1,0.01,0.001],\n",
    "#     'kernel': ['rbf', 'poly', 'sigmoid'],\n",
    "# }\n",
    "\n",
    "#parameter settings for GaussianNB\n",
    "\n",
    "# parameters={\n",
    "#     'var_smoothing': np.logspace(0,-9, num=100),\n",
    "#     'priors': [None],\n",
    "# }\n",
    "\n",
    "#parameter settings for Logistic Regression\n",
    "\n",
    "# parameters={\n",
    "#     'C': [0.001, 0.01, 0.1, 1, 10, 100, 1000],\n",
    "#     'penalty': ['l1', 'l2'],\n",
    "#     'solver': ['newton-cg', 'lbfgs', 'liblinear', 'sag', 'saga'],\n",
    "# }\n",
    "\n",
    "#parameter settings for DecisionTree and Randomforest\n",
    "\n",
    "# parameters={\n",
    "#     \"max_depth\":list(range(1,5)),\n",
    "#     \"min_samples_split\": (1, 2, 3),\n",
    "#     \"min_samples_leaf\": (1, 2, 3),\n",
    "# }\n",
    "\n",
    "#parameter settings for XGBClassifier\n",
    "\n",
    "parameters={\n",
    "    \"max_depth\":list(range(1,5)),\n",
    "    \"n_estimators\":list(range(1,5)),\n",
    "    \"learning_rate\":[0.01,0.1,1],\n",
    "}\n",
    "model = GridSearchCV(\n",
    "  XGBClassifier(),parameters,cv=cv,scoring='f1'\n",
    ")\n",
    "model.fit(x_train,y_train)"
   ]
  },
  {
   "cell_type": "markdown",
   "id": "a893e9ea",
   "metadata": {
    "papermill": {
     "duration": 0.010168,
     "end_time": "2022-08-19T16:12:05.067070",
     "exception": false,
     "start_time": "2022-08-19T16:12:05.056902",
     "status": "completed"
    },
    "tags": []
   },
   "source": [
    "### Evaluating the model on some of the training data"
   ]
  },
  {
   "cell_type": "code",
   "execution_count": 20,
   "id": "a900583b",
   "metadata": {
    "execution": {
     "iopub.execute_input": "2022-08-19T16:12:05.090327Z",
     "iopub.status.busy": "2022-08-19T16:12:05.089619Z",
     "iopub.status.idle": "2022-08-19T16:12:05.094295Z",
     "shell.execute_reply": "2022-08-19T16:12:05.093372Z"
    },
    "papermill": {
     "duration": 0.018879,
     "end_time": "2022-08-19T16:12:05.096473",
     "exception": false,
     "start_time": "2022-08-19T16:12:05.077594",
     "status": "completed"
    },
    "tags": []
   },
   "outputs": [],
   "source": [
    "some_data=x_train[0:5]\n",
    "some_labels=y_train[0:5]"
   ]
  },
  {
   "cell_type": "markdown",
   "id": "855219fa",
   "metadata": {
    "papermill": {
     "duration": 0.010257,
     "end_time": "2022-08-19T16:12:05.117899",
     "exception": false,
     "start_time": "2022-08-19T16:12:05.107642",
     "status": "completed"
    },
    "tags": []
   },
   "source": [
    "**comparing the predicted labels with the actual labels**"
   ]
  },
  {
   "cell_type": "code",
   "execution_count": 21,
   "id": "e37e80ca",
   "metadata": {
    "execution": {
     "iopub.execute_input": "2022-08-19T16:12:05.140865Z",
     "iopub.status.busy": "2022-08-19T16:12:05.140162Z",
     "iopub.status.idle": "2022-08-19T16:12:05.167111Z",
     "shell.execute_reply": "2022-08-19T16:12:05.165980Z"
    },
    "papermill": {
     "duration": 0.041334,
     "end_time": "2022-08-19T16:12:05.169630",
     "exception": false,
     "start_time": "2022-08-19T16:12:05.128296",
     "status": "completed"
    },
    "tags": []
   },
   "outputs": [
    {
     "data": {
      "text/plain": [
       "(array([0, 1, 1, 1, 0]), array([0, 1, 1, 1, 0]))"
      ]
     },
     "execution_count": 21,
     "metadata": {},
     "output_type": "execute_result"
    }
   ],
   "source": [
    "model.predict(some_data),some_labels"
   ]
  },
  {
   "cell_type": "code",
   "execution_count": 22,
   "id": "38aef539",
   "metadata": {
    "execution": {
     "iopub.execute_input": "2022-08-19T16:12:05.193318Z",
     "iopub.status.busy": "2022-08-19T16:12:05.192621Z",
     "iopub.status.idle": "2022-08-19T16:12:05.200963Z",
     "shell.execute_reply": "2022-08-19T16:12:05.199826Z"
    },
    "papermill": {
     "duration": 0.022787,
     "end_time": "2022-08-19T16:12:05.203267",
     "exception": false,
     "start_time": "2022-08-19T16:12:05.180480",
     "status": "completed"
    },
    "tags": []
   },
   "outputs": [
    {
     "name": "stdout",
     "output_type": "stream",
     "text": [
      "Best score: 0.778\n",
      "Best parameters set:\n",
      "\tlearning_rate: 1\n",
      "\tmax_depth: 3\n",
      "\tn_estimators: 2\n"
     ]
    }
   ],
   "source": [
    "print ('Best score: %0.3f' % model.best_score_)\n",
    "print ('Best parameters set:')\n",
    "best_parameters = model.best_estimator_.get_params()\n",
    "for param_name in sorted(parameters.keys()):\n",
    "    print ('\\t%s: %r' % (param_name, best_parameters[param_name]))"
   ]
  },
  {
   "cell_type": "markdown",
   "id": "4d02d1db",
   "metadata": {
    "papermill": {
     "duration": 0.010313,
     "end_time": "2022-08-19T16:12:05.224157",
     "exception": false,
     "start_time": "2022-08-19T16:12:05.213844",
     "status": "completed"
    },
    "tags": []
   },
   "source": [
    "## Now evaluating the model on the test data and printing the results "
   ]
  },
  {
   "cell_type": "code",
   "execution_count": 23,
   "id": "a3cf089f",
   "metadata": {
    "execution": {
     "iopub.execute_input": "2022-08-19T16:12:05.248265Z",
     "iopub.status.busy": "2022-08-19T16:12:05.247560Z",
     "iopub.status.idle": "2022-08-19T16:12:05.261385Z",
     "shell.execute_reply": "2022-08-19T16:12:05.259017Z"
    },
    "papermill": {
     "duration": 0.032221,
     "end_time": "2022-08-19T16:12:05.267463",
     "exception": false,
     "start_time": "2022-08-19T16:12:05.235242",
     "status": "completed"
    },
    "tags": []
   },
   "outputs": [
    {
     "name": "stdout",
     "output_type": "stream",
     "text": [
      "[0 1 0 0 1 0 1 0 1 0 0 0 1 0 1 1 0 0 1 1 0 1 1 0 1 0 1 0 0 0 0 0 1 1 0 0 1\n",
      " 1 0 0 0 0 0 1 1 0 0 0 1 1 0 0 1 1 0 0 0 0 0 1 0 0 0 1 1 1 1 0 0 1 1 0 1 0\n",
      " 1 0 0 1 0 1 1 0 0 0 0 0 1 1 1 1 1 0 1 0 0 0 1 0 1 0 1 0 0 0 1 0 0 0 0 0 0\n",
      " 1 1 1 1 0 0 1 0 1 1 0 1 0 0 1 0 1 0 0 0 0 0 0 0 0 0 0 1 0 0 1 0 0 0 0 0 0\n",
      " 0 0 1 0 0 1 0 0 1 1 0 1 1 1 1 0 0 1 0 0 1 1 0 0 0 0 0 1 1 0 1 1 0 0 1 0 1\n",
      " 0 1 0 0 0 0 0 1 0 1 0 1 1 0 1 1 1 0 1 0 0 1 0 1 0 0 0 0 1 0 0 1 0 1 0 1 0\n",
      " 1 0 1 1 0 1 0 0 0 1 0 0 0 0 0 0 1 1 1 1 0 0 1 0 1 0 1 1 1 0 0 0 0 0 0 0 1\n",
      " 0 0 0 1 1 0 0 0 0 1 0 0 0 1 1 0 1 0 0 0 0 1 1 1 1 1 0 0 0 0 0 0 1 0 0 0 0\n",
      " 1 0 0 0 0 0 0 0 1 1 0 1 0 1 0 0 0 1 1 1 0 0 0 0 0 0 0 0 1 0 1 0 0 0 1 0 0\n",
      " 1 0 0 0 0 0 1 0 0 0 1 1 1 0 1 0 1 1 0 0 0 1 0 1 0 0 1 0 1 1 0 1 0 0 1 1 0\n",
      " 0 1 0 0 1 1 1 0 0 0 0 0 1 1 0 1 0 0 0 0 0 1 1 0 0 1 0 1 0 0 1 0 1 0 0 0 0\n",
      " 0 1 1 1 1 1 0 1 0 0 1]\n"
     ]
    }
   ],
   "source": [
    "predictions = model.predict(x_test)\n",
    "print  (predictions)"
   ]
  },
  {
   "cell_type": "markdown",
   "id": "b94b6ac7",
   "metadata": {
    "papermill": {
     "duration": 0.010358,
     "end_time": "2022-08-19T16:12:05.289488",
     "exception": false,
     "start_time": "2022-08-19T16:12:05.279130",
     "status": "completed"
    },
    "tags": []
   },
   "source": [
    "## Noting down F1 scores of different classifiers and choosing the best one.\n",
    "1.XGBClassifier - 0.778 <br>\n",
    "2.DecisionTree - 0.758 <br>\n",
    "3.RandomForestClassifier - 0.763 <br>\n",
    "4.Gaussian Naive Bayes - 0.762 <br>\n",
    "5.Logistic Regression - 0.761 <br>\n",
    "6.SVM classifier - 0.781 <br>\n",
    "7.SGD classifier -0.769 <br>\n",
    "\n",
    "**I am going to pick XGBClassifier. Even though it performed the second best after SVM, its evaluation on the train data sample was better than the SVM Classifier.**"
   ]
  },
  {
   "cell_type": "code",
   "execution_count": 24,
   "id": "fa016119",
   "metadata": {
    "execution": {
     "iopub.execute_input": "2022-08-19T16:12:05.312310Z",
     "iopub.status.busy": "2022-08-19T16:12:05.311859Z",
     "iopub.status.idle": "2022-08-19T16:12:05.321647Z",
     "shell.execute_reply": "2022-08-19T16:12:05.320688Z"
    },
    "papermill": {
     "duration": 0.024009,
     "end_time": "2022-08-19T16:12:05.324141",
     "exception": false,
     "start_time": "2022-08-19T16:12:05.300132",
     "status": "completed"
    },
    "tags": []
   },
   "outputs": [],
   "source": [
    "#Creating the submission file in a csv format\n",
    "submission = pd.DataFrame(\n",
    "\n",
    "      {\n",
    "\n",
    "          \"PassengerId\": test_ids,\n",
    "\n",
    "          \"Survived\": predictions,\n",
    "\n",
    "      }\n",
    "\n",
    "  )\n",
    "submission.to_csv(\"titanic_submission.csv\", index=False)"
   ]
  },
  {
   "cell_type": "code",
   "execution_count": 25,
   "id": "4c558209",
   "metadata": {
    "execution": {
     "iopub.execute_input": "2022-08-19T16:12:05.348359Z",
     "iopub.status.busy": "2022-08-19T16:12:05.347046Z",
     "iopub.status.idle": "2022-08-19T16:12:05.359857Z",
     "shell.execute_reply": "2022-08-19T16:12:05.358654Z"
    },
    "papermill": {
     "duration": 0.027249,
     "end_time": "2022-08-19T16:12:05.362218",
     "exception": false,
     "start_time": "2022-08-19T16:12:05.334969",
     "status": "completed"
    },
    "tags": []
   },
   "outputs": [
    {
     "data": {
      "text/html": [
       "<div>\n",
       "<style scoped>\n",
       "    .dataframe tbody tr th:only-of-type {\n",
       "        vertical-align: middle;\n",
       "    }\n",
       "\n",
       "    .dataframe tbody tr th {\n",
       "        vertical-align: top;\n",
       "    }\n",
       "\n",
       "    .dataframe thead th {\n",
       "        text-align: right;\n",
       "    }\n",
       "</style>\n",
       "<table border=\"1\" class=\"dataframe\">\n",
       "  <thead>\n",
       "    <tr style=\"text-align: right;\">\n",
       "      <th></th>\n",
       "      <th>PassengerId</th>\n",
       "      <th>Survived</th>\n",
       "    </tr>\n",
       "  </thead>\n",
       "  <tbody>\n",
       "    <tr>\n",
       "      <th>0</th>\n",
       "      <td>892</td>\n",
       "      <td>0</td>\n",
       "    </tr>\n",
       "    <tr>\n",
       "      <th>1</th>\n",
       "      <td>893</td>\n",
       "      <td>1</td>\n",
       "    </tr>\n",
       "    <tr>\n",
       "      <th>2</th>\n",
       "      <td>894</td>\n",
       "      <td>0</td>\n",
       "    </tr>\n",
       "    <tr>\n",
       "      <th>3</th>\n",
       "      <td>895</td>\n",
       "      <td>0</td>\n",
       "    </tr>\n",
       "    <tr>\n",
       "      <th>4</th>\n",
       "      <td>896</td>\n",
       "      <td>1</td>\n",
       "    </tr>\n",
       "    <tr>\n",
       "      <th>...</th>\n",
       "      <td>...</td>\n",
       "      <td>...</td>\n",
       "    </tr>\n",
       "    <tr>\n",
       "      <th>413</th>\n",
       "      <td>1305</td>\n",
       "      <td>0</td>\n",
       "    </tr>\n",
       "    <tr>\n",
       "      <th>414</th>\n",
       "      <td>1306</td>\n",
       "      <td>1</td>\n",
       "    </tr>\n",
       "    <tr>\n",
       "      <th>415</th>\n",
       "      <td>1307</td>\n",
       "      <td>0</td>\n",
       "    </tr>\n",
       "    <tr>\n",
       "      <th>416</th>\n",
       "      <td>1308</td>\n",
       "      <td>0</td>\n",
       "    </tr>\n",
       "    <tr>\n",
       "      <th>417</th>\n",
       "      <td>1309</td>\n",
       "      <td>1</td>\n",
       "    </tr>\n",
       "  </tbody>\n",
       "</table>\n",
       "<p>418 rows × 2 columns</p>\n",
       "</div>"
      ],
      "text/plain": [
       "     PassengerId  Survived\n",
       "0            892         0\n",
       "1            893         1\n",
       "2            894         0\n",
       "3            895         0\n",
       "4            896         1\n",
       "..           ...       ...\n",
       "413         1305         0\n",
       "414         1306         1\n",
       "415         1307         0\n",
       "416         1308         0\n",
       "417         1309         1\n",
       "\n",
       "[418 rows x 2 columns]"
      ]
     },
     "execution_count": 25,
     "metadata": {},
     "output_type": "execute_result"
    }
   ],
   "source": [
    "submission"
   ]
  },
  {
   "cell_type": "code",
   "execution_count": null,
   "id": "fcdd39d1",
   "metadata": {
    "papermill": {
     "duration": 0.010354,
     "end_time": "2022-08-19T16:12:05.383453",
     "exception": false,
     "start_time": "2022-08-19T16:12:05.373099",
     "status": "completed"
    },
    "tags": []
   },
   "outputs": [],
   "source": []
  }
 ],
 "metadata": {
  "kernelspec": {
   "display_name": "Python 3",
   "language": "python",
   "name": "python3"
  },
  "language_info": {
   "codemirror_mode": {
    "name": "ipython",
    "version": 3
   },
   "file_extension": ".py",
   "mimetype": "text/x-python",
   "name": "python",
   "nbconvert_exporter": "python",
   "pygments_lexer": "ipython3",
   "version": "3.7.12"
  },
  "papermill": {
   "default_parameters": {},
   "duration": 16.768668,
   "end_time": "2022-08-19T16:12:06.217518",
   "environment_variables": {},
   "exception": null,
   "input_path": "__notebook__.ipynb",
   "output_path": "__notebook__.ipynb",
   "parameters": {},
   "start_time": "2022-08-19T16:11:49.448850",
   "version": "2.3.4"
  }
 },
 "nbformat": 4,
 "nbformat_minor": 5
}
